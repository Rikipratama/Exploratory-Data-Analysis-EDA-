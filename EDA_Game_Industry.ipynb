{
  "cells": [
    {
      "cell_type": "markdown",
      "metadata": {
        "id": "view-in-github",
        "colab_type": "text"
      },
      "source": [
        "<a href=\"https://colab.research.google.com/github/Rikipratama/Exploratory-Data-Analysis-EDA-/blob/main/EDA_Game_Industry.ipynb\" target=\"_parent\"><img src=\"https://colab.research.google.com/assets/colab-badge.svg\" alt=\"Open In Colab\"/></a>"
      ]
    },
    {
      "cell_type": "markdown",
      "metadata": {
        "id": "fQhYLmFk7YLk"
      },
      "source": [
        "### Import Libraries"
      ]
    },
    {
      "cell_type": "code",
      "execution_count": 1,
      "metadata": {
        "id": "4n0fupA7BBdO"
      },
      "outputs": [],
      "source": [
        "import pandas as pd\n",
        "import seaborn as sns\n",
        "import matplotlib.pyplot as plt"
      ]
    },
    {
      "cell_type": "markdown",
      "metadata": {
        "id": "R3ffYzs_qid3"
      },
      "source": [
        "### Load Dataset"
      ]
    },
    {
      "cell_type": "code",
      "execution_count": 2,
      "metadata": {
        "colab": {
          "base_uri": "https://localhost:8080/"
        },
        "id": "aQ9UaVqC7l_E",
        "outputId": "61002cf7-f2d8-4cfe-efb2-98c6de5341da"
      },
      "outputs": [
        {
          "output_type": "stream",
          "name": "stdout",
          "text": [
            "                            Name  Sales     Series    Release  \\\n",
            "0  PlayerUnknown's Battlegrounds   42.0        NaN 2017-01-12   \n",
            "1                      Minecraft   33.0  Minecraft 2011-01-11   \n",
            "2                     Diablo III   20.0     Diablo 2012-01-05   \n",
            "3                    Garry's Mod   20.0        NaN 2006-01-11   \n",
            "4                       Terraria   17.2        NaN 2011-01-05   \n",
            "\n",
            "                 Genre               Developer               Publisher  \n",
            "0        Battle royale            PUBG Studios                 Krafton  \n",
            "1    Sandbox, survival          Mojang Studios          Mojang Studios  \n",
            "2  Action role-playing  Blizzard Entertainment  Blizzard Entertainment  \n",
            "3              Sandbox       Facepunch Studios                   Valve  \n",
            "4     Action-adventure                Re-Logic                Re-Logic  \n"
          ]
        }
      ],
      "source": [
        "data = pd.read_excel(\"/content/Games Sales.xlsx\")\n",
        "print(data.head(5))"
      ]
    },
    {
      "cell_type": "markdown",
      "metadata": {
        "id": "MM0cYOQ1rPZD"
      },
      "source": [
        "### Get Dimensions of DataFrame\n",
        "In Python's pandas library, the shape attribute is used to get the dimensions of a DataFrame or a Series. It returns a tuple representing the number of rows followed by the number of columns in the DataFrame or Series."
      ]
    },
    {
      "cell_type": "code",
      "execution_count": 3,
      "metadata": {
        "colab": {
          "base_uri": "https://localhost:8080/"
        },
        "id": "4hammkvIEPAR",
        "outputId": "ecbaf7ae-8e56-42b2-b4d6-c428477bd7a7"
      },
      "outputs": [
        {
          "output_type": "execute_result",
          "data": {
            "text/plain": [
              "(175, 7)"
            ]
          },
          "metadata": {},
          "execution_count": 3
        }
      ],
      "source": [
        "data.shape"
      ]
    },
    {
      "cell_type": "markdown",
      "metadata": {
        "id": "r3YxtvnarxVZ"
      },
      "source": [
        "### Summary Statistics in DataFrame\n",
        "The **describe()** method in pandas DataFrame provides summary statistics of the numerical columns in the DataFrame. These statistics include count, mean, standard deviation, minimum, maximum, and quartiles. It helps in understanding the distribution and central tendency of the data."
      ]
    },
    {
      "cell_type": "code",
      "execution_count": 4,
      "metadata": {
        "colab": {
          "base_uri": "https://localhost:8080/",
          "height": 300
        },
        "id": "6Jzt9H4slpIY",
        "outputId": "83416d1a-124d-487e-aebf-ed4cb5ddd4e3"
      },
      "outputs": [
        {
          "output_type": "execute_result",
          "data": {
            "text/plain": [
              "            Sales\n",
              "count  175.000000\n",
              "mean     3.141143\n",
              "std      4.960513\n",
              "min      1.000000\n",
              "25%      1.000000\n",
              "50%      1.500000\n",
              "75%      3.000000\n",
              "max     42.000000"
            ],
            "text/html": [
              "\n",
              "  <div id=\"df-91b56200-f25a-4695-b01b-e35e19d5ec14\" class=\"colab-df-container\">\n",
              "    <div>\n",
              "<style scoped>\n",
              "    .dataframe tbody tr th:only-of-type {\n",
              "        vertical-align: middle;\n",
              "    }\n",
              "\n",
              "    .dataframe tbody tr th {\n",
              "        vertical-align: top;\n",
              "    }\n",
              "\n",
              "    .dataframe thead th {\n",
              "        text-align: right;\n",
              "    }\n",
              "</style>\n",
              "<table border=\"1\" class=\"dataframe\">\n",
              "  <thead>\n",
              "    <tr style=\"text-align: right;\">\n",
              "      <th></th>\n",
              "      <th>Sales</th>\n",
              "    </tr>\n",
              "  </thead>\n",
              "  <tbody>\n",
              "    <tr>\n",
              "      <th>count</th>\n",
              "      <td>175.000000</td>\n",
              "    </tr>\n",
              "    <tr>\n",
              "      <th>mean</th>\n",
              "      <td>3.141143</td>\n",
              "    </tr>\n",
              "    <tr>\n",
              "      <th>std</th>\n",
              "      <td>4.960513</td>\n",
              "    </tr>\n",
              "    <tr>\n",
              "      <th>min</th>\n",
              "      <td>1.000000</td>\n",
              "    </tr>\n",
              "    <tr>\n",
              "      <th>25%</th>\n",
              "      <td>1.000000</td>\n",
              "    </tr>\n",
              "    <tr>\n",
              "      <th>50%</th>\n",
              "      <td>1.500000</td>\n",
              "    </tr>\n",
              "    <tr>\n",
              "      <th>75%</th>\n",
              "      <td>3.000000</td>\n",
              "    </tr>\n",
              "    <tr>\n",
              "      <th>max</th>\n",
              "      <td>42.000000</td>\n",
              "    </tr>\n",
              "  </tbody>\n",
              "</table>\n",
              "</div>\n",
              "    <div class=\"colab-df-buttons\">\n",
              "\n",
              "  <div class=\"colab-df-container\">\n",
              "    <button class=\"colab-df-convert\" onclick=\"convertToInteractive('df-91b56200-f25a-4695-b01b-e35e19d5ec14')\"\n",
              "            title=\"Convert this dataframe to an interactive table.\"\n",
              "            style=\"display:none;\">\n",
              "\n",
              "  <svg xmlns=\"http://www.w3.org/2000/svg\" height=\"24px\" viewBox=\"0 -960 960 960\">\n",
              "    <path d=\"M120-120v-720h720v720H120Zm60-500h600v-160H180v160Zm220 220h160v-160H400v160Zm0 220h160v-160H400v160ZM180-400h160v-160H180v160Zm440 0h160v-160H620v160ZM180-180h160v-160H180v160Zm440 0h160v-160H620v160Z\"/>\n",
              "  </svg>\n",
              "    </button>\n",
              "\n",
              "  <style>\n",
              "    .colab-df-container {\n",
              "      display:flex;\n",
              "      gap: 12px;\n",
              "    }\n",
              "\n",
              "    .colab-df-convert {\n",
              "      background-color: #E8F0FE;\n",
              "      border: none;\n",
              "      border-radius: 50%;\n",
              "      cursor: pointer;\n",
              "      display: none;\n",
              "      fill: #1967D2;\n",
              "      height: 32px;\n",
              "      padding: 0 0 0 0;\n",
              "      width: 32px;\n",
              "    }\n",
              "\n",
              "    .colab-df-convert:hover {\n",
              "      background-color: #E2EBFA;\n",
              "      box-shadow: 0px 1px 2px rgba(60, 64, 67, 0.3), 0px 1px 3px 1px rgba(60, 64, 67, 0.15);\n",
              "      fill: #174EA6;\n",
              "    }\n",
              "\n",
              "    .colab-df-buttons div {\n",
              "      margin-bottom: 4px;\n",
              "    }\n",
              "\n",
              "    [theme=dark] .colab-df-convert {\n",
              "      background-color: #3B4455;\n",
              "      fill: #D2E3FC;\n",
              "    }\n",
              "\n",
              "    [theme=dark] .colab-df-convert:hover {\n",
              "      background-color: #434B5C;\n",
              "      box-shadow: 0px 1px 3px 1px rgba(0, 0, 0, 0.15);\n",
              "      filter: drop-shadow(0px 1px 2px rgba(0, 0, 0, 0.3));\n",
              "      fill: #FFFFFF;\n",
              "    }\n",
              "  </style>\n",
              "\n",
              "    <script>\n",
              "      const buttonEl =\n",
              "        document.querySelector('#df-91b56200-f25a-4695-b01b-e35e19d5ec14 button.colab-df-convert');\n",
              "      buttonEl.style.display =\n",
              "        google.colab.kernel.accessAllowed ? 'block' : 'none';\n",
              "\n",
              "      async function convertToInteractive(key) {\n",
              "        const element = document.querySelector('#df-91b56200-f25a-4695-b01b-e35e19d5ec14');\n",
              "        const dataTable =\n",
              "          await google.colab.kernel.invokeFunction('convertToInteractive',\n",
              "                                                    [key], {});\n",
              "        if (!dataTable) return;\n",
              "\n",
              "        const docLinkHtml = 'Like what you see? Visit the ' +\n",
              "          '<a target=\"_blank\" href=https://colab.research.google.com/notebooks/data_table.ipynb>data table notebook</a>'\n",
              "          + ' to learn more about interactive tables.';\n",
              "        element.innerHTML = '';\n",
              "        dataTable['output_type'] = 'display_data';\n",
              "        await google.colab.output.renderOutput(dataTable, element);\n",
              "        const docLink = document.createElement('div');\n",
              "        docLink.innerHTML = docLinkHtml;\n",
              "        element.appendChild(docLink);\n",
              "      }\n",
              "    </script>\n",
              "  </div>\n",
              "\n",
              "\n",
              "<div id=\"df-e1019fd9-db85-42a1-b234-d12b7671b12e\">\n",
              "  <button class=\"colab-df-quickchart\" onclick=\"quickchart('df-e1019fd9-db85-42a1-b234-d12b7671b12e')\"\n",
              "            title=\"Suggest charts\"\n",
              "            style=\"display:none;\">\n",
              "\n",
              "<svg xmlns=\"http://www.w3.org/2000/svg\" height=\"24px\"viewBox=\"0 0 24 24\"\n",
              "     width=\"24px\">\n",
              "    <g>\n",
              "        <path d=\"M19 3H5c-1.1 0-2 .9-2 2v14c0 1.1.9 2 2 2h14c1.1 0 2-.9 2-2V5c0-1.1-.9-2-2-2zM9 17H7v-7h2v7zm4 0h-2V7h2v10zm4 0h-2v-4h2v4z\"/>\n",
              "    </g>\n",
              "</svg>\n",
              "  </button>\n",
              "\n",
              "<style>\n",
              "  .colab-df-quickchart {\n",
              "      --bg-color: #E8F0FE;\n",
              "      --fill-color: #1967D2;\n",
              "      --hover-bg-color: #E2EBFA;\n",
              "      --hover-fill-color: #174EA6;\n",
              "      --disabled-fill-color: #AAA;\n",
              "      --disabled-bg-color: #DDD;\n",
              "  }\n",
              "\n",
              "  [theme=dark] .colab-df-quickchart {\n",
              "      --bg-color: #3B4455;\n",
              "      --fill-color: #D2E3FC;\n",
              "      --hover-bg-color: #434B5C;\n",
              "      --hover-fill-color: #FFFFFF;\n",
              "      --disabled-bg-color: #3B4455;\n",
              "      --disabled-fill-color: #666;\n",
              "  }\n",
              "\n",
              "  .colab-df-quickchart {\n",
              "    background-color: var(--bg-color);\n",
              "    border: none;\n",
              "    border-radius: 50%;\n",
              "    cursor: pointer;\n",
              "    display: none;\n",
              "    fill: var(--fill-color);\n",
              "    height: 32px;\n",
              "    padding: 0;\n",
              "    width: 32px;\n",
              "  }\n",
              "\n",
              "  .colab-df-quickchart:hover {\n",
              "    background-color: var(--hover-bg-color);\n",
              "    box-shadow: 0 1px 2px rgba(60, 64, 67, 0.3), 0 1px 3px 1px rgba(60, 64, 67, 0.15);\n",
              "    fill: var(--button-hover-fill-color);\n",
              "  }\n",
              "\n",
              "  .colab-df-quickchart-complete:disabled,\n",
              "  .colab-df-quickchart-complete:disabled:hover {\n",
              "    background-color: var(--disabled-bg-color);\n",
              "    fill: var(--disabled-fill-color);\n",
              "    box-shadow: none;\n",
              "  }\n",
              "\n",
              "  .colab-df-spinner {\n",
              "    border: 2px solid var(--fill-color);\n",
              "    border-color: transparent;\n",
              "    border-bottom-color: var(--fill-color);\n",
              "    animation:\n",
              "      spin 1s steps(1) infinite;\n",
              "  }\n",
              "\n",
              "  @keyframes spin {\n",
              "    0% {\n",
              "      border-color: transparent;\n",
              "      border-bottom-color: var(--fill-color);\n",
              "      border-left-color: var(--fill-color);\n",
              "    }\n",
              "    20% {\n",
              "      border-color: transparent;\n",
              "      border-left-color: var(--fill-color);\n",
              "      border-top-color: var(--fill-color);\n",
              "    }\n",
              "    30% {\n",
              "      border-color: transparent;\n",
              "      border-left-color: var(--fill-color);\n",
              "      border-top-color: var(--fill-color);\n",
              "      border-right-color: var(--fill-color);\n",
              "    }\n",
              "    40% {\n",
              "      border-color: transparent;\n",
              "      border-right-color: var(--fill-color);\n",
              "      border-top-color: var(--fill-color);\n",
              "    }\n",
              "    60% {\n",
              "      border-color: transparent;\n",
              "      border-right-color: var(--fill-color);\n",
              "    }\n",
              "    80% {\n",
              "      border-color: transparent;\n",
              "      border-right-color: var(--fill-color);\n",
              "      border-bottom-color: var(--fill-color);\n",
              "    }\n",
              "    90% {\n",
              "      border-color: transparent;\n",
              "      border-bottom-color: var(--fill-color);\n",
              "    }\n",
              "  }\n",
              "</style>\n",
              "\n",
              "  <script>\n",
              "    async function quickchart(key) {\n",
              "      const quickchartButtonEl =\n",
              "        document.querySelector('#' + key + ' button');\n",
              "      quickchartButtonEl.disabled = true;  // To prevent multiple clicks.\n",
              "      quickchartButtonEl.classList.add('colab-df-spinner');\n",
              "      try {\n",
              "        const charts = await google.colab.kernel.invokeFunction(\n",
              "            'suggestCharts', [key], {});\n",
              "      } catch (error) {\n",
              "        console.error('Error during call to suggestCharts:', error);\n",
              "      }\n",
              "      quickchartButtonEl.classList.remove('colab-df-spinner');\n",
              "      quickchartButtonEl.classList.add('colab-df-quickchart-complete');\n",
              "    }\n",
              "    (() => {\n",
              "      let quickchartButtonEl =\n",
              "        document.querySelector('#df-e1019fd9-db85-42a1-b234-d12b7671b12e button');\n",
              "      quickchartButtonEl.style.display =\n",
              "        google.colab.kernel.accessAllowed ? 'block' : 'none';\n",
              "    })();\n",
              "  </script>\n",
              "</div>\n",
              "    </div>\n",
              "  </div>\n"
            ]
          },
          "metadata": {},
          "execution_count": 4
        }
      ],
      "source": [
        "data.describe()"
      ]
    },
    {
      "cell_type": "markdown",
      "metadata": {
        "id": "CohHsTAmsamO"
      },
      "source": [
        "### Get a concise summary of DataFrame\n",
        "In Python, specifically when working with the pandas library, the **info()** method is used to get a concise summary of a DataFrame. This method provides information about the DataFrame's structure, including the number of entries, column names, data types, and memory usage."
      ]
    },
    {
      "cell_type": "code",
      "execution_count": 5,
      "metadata": {
        "colab": {
          "base_uri": "https://localhost:8080/"
        },
        "id": "OutGcWKq755I",
        "outputId": "f31e8e07-60fe-4130-f822-69c7633f85b0"
      },
      "outputs": [
        {
          "output_type": "stream",
          "name": "stdout",
          "text": [
            "<class 'pandas.core.frame.DataFrame'>\n",
            "RangeIndex: 175 entries, 0 to 174\n",
            "Data columns (total 7 columns):\n",
            " #   Column     Non-Null Count  Dtype         \n",
            "---  ------     --------------  -----         \n",
            " 0   Name       175 non-null    object        \n",
            " 1   Sales      175 non-null    float64       \n",
            " 2   Series     139 non-null    object        \n",
            " 3   Release    175 non-null    datetime64[ns]\n",
            " 4   Genre      175 non-null    object        \n",
            " 5   Developer  175 non-null    object        \n",
            " 6   Publisher  175 non-null    object        \n",
            "dtypes: datetime64[ns](1), float64(1), object(5)\n",
            "memory usage: 9.7+ KB\n"
          ]
        }
      ],
      "source": [
        "data.info()"
      ]
    },
    {
      "cell_type": "markdown",
      "metadata": {
        "id": "8srRz3xLs5GD"
      },
      "source": [
        "### Converting Dtypes to Datetime\n",
        "In Python, pd.datetime typically refers to the datetime class from the pandas library (pd is often used as an alias for pandas). The datetime class in pandas provides functionality to work with dates and times efficiently, including parsing strings into datetime objects, performing arithmetic operations on dates, and handling time zone conversions."
      ]
    },
    {
      "cell_type": "code",
      "execution_count": 6,
      "metadata": {
        "colab": {
          "base_uri": "https://localhost:8080/"
        },
        "id": "GRXVgYM_Hpuh",
        "outputId": "b88026f7-d3f9-4c02-f3a0-9da313c7b2df"
      },
      "outputs": [
        {
          "output_type": "stream",
          "name": "stdout",
          "text": [
            "                            Name  Sales     Series    Release  \\\n",
            "0  PlayerUnknown's Battlegrounds   42.0        NaN 2017-01-12   \n",
            "1                      Minecraft   33.0  Minecraft 2011-01-11   \n",
            "2                     Diablo III   20.0     Diablo 2012-01-05   \n",
            "\n",
            "                 Genre               Developer               Publisher  \n",
            "0        Battle royale            PUBG Studios                 Krafton  \n",
            "1    Sandbox, survival          Mojang Studios          Mojang Studios  \n",
            "2  Action role-playing  Blizzard Entertainment  Blizzard Entertainment  \n"
          ]
        }
      ],
      "source": [
        "data['Release'] = pd.to_datetime(data[\"Release\"])\n",
        "print(data.head(3))"
      ]
    },
    {
      "cell_type": "markdown",
      "metadata": {
        "id": "powoZGBKthV8"
      },
      "source": [
        "### Get the columns\n",
        "In Python, when working with data frames or tables using libraries like pandas, you can use the columns attribute to get the column names of the dataset."
      ]
    },
    {
      "cell_type": "code",
      "execution_count": 7,
      "metadata": {
        "colab": {
          "base_uri": "https://localhost:8080/"
        },
        "id": "w6gvhgBH8Lf8",
        "outputId": "d3f5cd51-1a30-4f59-a973-70eac9fb7f3e"
      },
      "outputs": [
        {
          "output_type": "execute_result",
          "data": {
            "text/plain": [
              "Index(['Name', 'Sales', 'Series', 'Release', 'Genre', 'Developer',\n",
              "       'Publisher'],\n",
              "      dtype='object')"
            ]
          },
          "metadata": {},
          "execution_count": 7
        }
      ],
      "source": [
        "data.columns"
      ]
    },
    {
      "cell_type": "markdown",
      "metadata": {
        "id": "i4ZQ3xPlxgai"
      },
      "source": [
        "### Show the count of unique elements\n",
        "The data.nunique() method in Python is used to count the number of unique elements in a pandas Series or DataFrame. It returns the count of unique elements along a specified axis."
      ]
    },
    {
      "cell_type": "code",
      "execution_count": 8,
      "metadata": {
        "colab": {
          "base_uri": "https://localhost:8080/"
        },
        "id": "xNv62xeSb6tA",
        "outputId": "f343aefa-0a93-4885-cff3-d30bcf289169"
      },
      "outputs": [
        {
          "output_type": "execute_result",
          "data": {
            "text/plain": [
              "Name         175\n",
              "Sales         30\n",
              "Series        91\n",
              "Release      130\n",
              "Genre         61\n",
              "Developer    109\n",
              "Publisher     96\n",
              "dtype: int64"
            ]
          },
          "metadata": {},
          "execution_count": 8
        }
      ],
      "source": [
        "data.nunique()"
      ]
    },
    {
      "cell_type": "markdown",
      "metadata": {
        "id": "SahbrsyvzD46"
      },
      "source": [
        "### Count the number of Null\n",
        "\n",
        "The data.isnull().sum() call is used to count the number of null values in each column of the data DataFrame."
      ]
    },
    {
      "cell_type": "code",
      "execution_count": 9,
      "metadata": {
        "colab": {
          "base_uri": "https://localhost:8080/"
        },
        "id": "rZgq4Z_6dm0n",
        "outputId": "8086004b-9993-4b0f-9879-30ed85694f12"
      },
      "outputs": [
        {
          "output_type": "execute_result",
          "data": {
            "text/plain": [
              "Name          0\n",
              "Sales         0\n",
              "Series       36\n",
              "Release       0\n",
              "Genre         0\n",
              "Developer     0\n",
              "Publisher     0\n",
              "dtype: int64"
            ]
          },
          "metadata": {},
          "execution_count": 9
        }
      ],
      "source": [
        "data.isnull().sum()"
      ]
    },
    {
      "cell_type": "markdown",
      "metadata": {
        "id": "CnYBMGynzlYF"
      },
      "source": [
        "#### Checking persentase of null"
      ]
    },
    {
      "cell_type": "code",
      "execution_count": 10,
      "metadata": {
        "colab": {
          "base_uri": "https://localhost:8080/"
        },
        "id": "-GKP8cSFdvLP",
        "outputId": "03eeb65b-ed5b-41c1-c60f-63348792ff25"
      },
      "outputs": [
        {
          "output_type": "execute_result",
          "data": {
            "text/plain": [
              "Name          0.000000\n",
              "Sales         0.000000\n",
              "Series       20.571429\n",
              "Release       0.000000\n",
              "Genre         0.000000\n",
              "Developer     0.000000\n",
              "Publisher     0.000000\n",
              "dtype: float64"
            ]
          },
          "metadata": {},
          "execution_count": 10
        }
      ],
      "source": [
        "(data.isnull().sum()/(len(data)))*100"
      ]
    },
    {
      "cell_type": "markdown",
      "metadata": {
        "id": "Lv9RFxM3mIJb"
      },
      "source": [
        "### Handle Missing Values\n",
        "\n",
        "In the dataset, we have missing values in column Series. The missing values is blank columns. So, we must to handle missing values. The method is to replace the blank column with **unknown**. because the data type in the series column is an object."
      ]
    },
    {
      "cell_type": "code",
      "execution_count": 11,
      "metadata": {
        "colab": {
          "base_uri": "https://localhost:8080/",
          "height": 206
        },
        "id": "7AKv8avXeEts",
        "outputId": "be807370-4caa-4567-8ae3-37124c750a7b"
      },
      "outputs": [
        {
          "output_type": "execute_result",
          "data": {
            "text/plain": [
              "                            Name  Sales     Series    Release  \\\n",
              "0  PlayerUnknown's Battlegrounds   42.0    Unknown 2017-01-12   \n",
              "1                      Minecraft   33.0  Minecraft 2011-01-11   \n",
              "2                     Diablo III   20.0     Diablo 2012-01-05   \n",
              "3                    Garry's Mod   20.0    Unknown 2006-01-11   \n",
              "4                       Terraria   17.2    Unknown 2011-01-05   \n",
              "\n",
              "                 Genre               Developer               Publisher  \n",
              "0        Battle royale            PUBG Studios                 Krafton  \n",
              "1    Sandbox, survival          Mojang Studios          Mojang Studios  \n",
              "2  Action role-playing  Blizzard Entertainment  Blizzard Entertainment  \n",
              "3              Sandbox       Facepunch Studios                   Valve  \n",
              "4     Action-adventure                Re-Logic                Re-Logic  "
            ],
            "text/html": [
              "\n",
              "  <div id=\"df-211f8760-a7c6-433c-93ba-0deb94873d2e\" class=\"colab-df-container\">\n",
              "    <div>\n",
              "<style scoped>\n",
              "    .dataframe tbody tr th:only-of-type {\n",
              "        vertical-align: middle;\n",
              "    }\n",
              "\n",
              "    .dataframe tbody tr th {\n",
              "        vertical-align: top;\n",
              "    }\n",
              "\n",
              "    .dataframe thead th {\n",
              "        text-align: right;\n",
              "    }\n",
              "</style>\n",
              "<table border=\"1\" class=\"dataframe\">\n",
              "  <thead>\n",
              "    <tr style=\"text-align: right;\">\n",
              "      <th></th>\n",
              "      <th>Name</th>\n",
              "      <th>Sales</th>\n",
              "      <th>Series</th>\n",
              "      <th>Release</th>\n",
              "      <th>Genre</th>\n",
              "      <th>Developer</th>\n",
              "      <th>Publisher</th>\n",
              "    </tr>\n",
              "  </thead>\n",
              "  <tbody>\n",
              "    <tr>\n",
              "      <th>0</th>\n",
              "      <td>PlayerUnknown's Battlegrounds</td>\n",
              "      <td>42.0</td>\n",
              "      <td>Unknown</td>\n",
              "      <td>2017-01-12</td>\n",
              "      <td>Battle royale</td>\n",
              "      <td>PUBG Studios</td>\n",
              "      <td>Krafton</td>\n",
              "    </tr>\n",
              "    <tr>\n",
              "      <th>1</th>\n",
              "      <td>Minecraft</td>\n",
              "      <td>33.0</td>\n",
              "      <td>Minecraft</td>\n",
              "      <td>2011-01-11</td>\n",
              "      <td>Sandbox, survival</td>\n",
              "      <td>Mojang Studios</td>\n",
              "      <td>Mojang Studios</td>\n",
              "    </tr>\n",
              "    <tr>\n",
              "      <th>2</th>\n",
              "      <td>Diablo III</td>\n",
              "      <td>20.0</td>\n",
              "      <td>Diablo</td>\n",
              "      <td>2012-01-05</td>\n",
              "      <td>Action role-playing</td>\n",
              "      <td>Blizzard Entertainment</td>\n",
              "      <td>Blizzard Entertainment</td>\n",
              "    </tr>\n",
              "    <tr>\n",
              "      <th>3</th>\n",
              "      <td>Garry's Mod</td>\n",
              "      <td>20.0</td>\n",
              "      <td>Unknown</td>\n",
              "      <td>2006-01-11</td>\n",
              "      <td>Sandbox</td>\n",
              "      <td>Facepunch Studios</td>\n",
              "      <td>Valve</td>\n",
              "    </tr>\n",
              "    <tr>\n",
              "      <th>4</th>\n",
              "      <td>Terraria</td>\n",
              "      <td>17.2</td>\n",
              "      <td>Unknown</td>\n",
              "      <td>2011-01-05</td>\n",
              "      <td>Action-adventure</td>\n",
              "      <td>Re-Logic</td>\n",
              "      <td>Re-Logic</td>\n",
              "    </tr>\n",
              "  </tbody>\n",
              "</table>\n",
              "</div>\n",
              "    <div class=\"colab-df-buttons\">\n",
              "\n",
              "  <div class=\"colab-df-container\">\n",
              "    <button class=\"colab-df-convert\" onclick=\"convertToInteractive('df-211f8760-a7c6-433c-93ba-0deb94873d2e')\"\n",
              "            title=\"Convert this dataframe to an interactive table.\"\n",
              "            style=\"display:none;\">\n",
              "\n",
              "  <svg xmlns=\"http://www.w3.org/2000/svg\" height=\"24px\" viewBox=\"0 -960 960 960\">\n",
              "    <path d=\"M120-120v-720h720v720H120Zm60-500h600v-160H180v160Zm220 220h160v-160H400v160Zm0 220h160v-160H400v160ZM180-400h160v-160H180v160Zm440 0h160v-160H620v160ZM180-180h160v-160H180v160Zm440 0h160v-160H620v160Z\"/>\n",
              "  </svg>\n",
              "    </button>\n",
              "\n",
              "  <style>\n",
              "    .colab-df-container {\n",
              "      display:flex;\n",
              "      gap: 12px;\n",
              "    }\n",
              "\n",
              "    .colab-df-convert {\n",
              "      background-color: #E8F0FE;\n",
              "      border: none;\n",
              "      border-radius: 50%;\n",
              "      cursor: pointer;\n",
              "      display: none;\n",
              "      fill: #1967D2;\n",
              "      height: 32px;\n",
              "      padding: 0 0 0 0;\n",
              "      width: 32px;\n",
              "    }\n",
              "\n",
              "    .colab-df-convert:hover {\n",
              "      background-color: #E2EBFA;\n",
              "      box-shadow: 0px 1px 2px rgba(60, 64, 67, 0.3), 0px 1px 3px 1px rgba(60, 64, 67, 0.15);\n",
              "      fill: #174EA6;\n",
              "    }\n",
              "\n",
              "    .colab-df-buttons div {\n",
              "      margin-bottom: 4px;\n",
              "    }\n",
              "\n",
              "    [theme=dark] .colab-df-convert {\n",
              "      background-color: #3B4455;\n",
              "      fill: #D2E3FC;\n",
              "    }\n",
              "\n",
              "    [theme=dark] .colab-df-convert:hover {\n",
              "      background-color: #434B5C;\n",
              "      box-shadow: 0px 1px 3px 1px rgba(0, 0, 0, 0.15);\n",
              "      filter: drop-shadow(0px 1px 2px rgba(0, 0, 0, 0.3));\n",
              "      fill: #FFFFFF;\n",
              "    }\n",
              "  </style>\n",
              "\n",
              "    <script>\n",
              "      const buttonEl =\n",
              "        document.querySelector('#df-211f8760-a7c6-433c-93ba-0deb94873d2e button.colab-df-convert');\n",
              "      buttonEl.style.display =\n",
              "        google.colab.kernel.accessAllowed ? 'block' : 'none';\n",
              "\n",
              "      async function convertToInteractive(key) {\n",
              "        const element = document.querySelector('#df-211f8760-a7c6-433c-93ba-0deb94873d2e');\n",
              "        const dataTable =\n",
              "          await google.colab.kernel.invokeFunction('convertToInteractive',\n",
              "                                                    [key], {});\n",
              "        if (!dataTable) return;\n",
              "\n",
              "        const docLinkHtml = 'Like what you see? Visit the ' +\n",
              "          '<a target=\"_blank\" href=https://colab.research.google.com/notebooks/data_table.ipynb>data table notebook</a>'\n",
              "          + ' to learn more about interactive tables.';\n",
              "        element.innerHTML = '';\n",
              "        dataTable['output_type'] = 'display_data';\n",
              "        await google.colab.output.renderOutput(dataTable, element);\n",
              "        const docLink = document.createElement('div');\n",
              "        docLink.innerHTML = docLinkHtml;\n",
              "        element.appendChild(docLink);\n",
              "      }\n",
              "    </script>\n",
              "  </div>\n",
              "\n",
              "\n",
              "<div id=\"df-51a4dbd3-d2ec-4ea0-b736-47b9dddc7f53\">\n",
              "  <button class=\"colab-df-quickchart\" onclick=\"quickchart('df-51a4dbd3-d2ec-4ea0-b736-47b9dddc7f53')\"\n",
              "            title=\"Suggest charts\"\n",
              "            style=\"display:none;\">\n",
              "\n",
              "<svg xmlns=\"http://www.w3.org/2000/svg\" height=\"24px\"viewBox=\"0 0 24 24\"\n",
              "     width=\"24px\">\n",
              "    <g>\n",
              "        <path d=\"M19 3H5c-1.1 0-2 .9-2 2v14c0 1.1.9 2 2 2h14c1.1 0 2-.9 2-2V5c0-1.1-.9-2-2-2zM9 17H7v-7h2v7zm4 0h-2V7h2v10zm4 0h-2v-4h2v4z\"/>\n",
              "    </g>\n",
              "</svg>\n",
              "  </button>\n",
              "\n",
              "<style>\n",
              "  .colab-df-quickchart {\n",
              "      --bg-color: #E8F0FE;\n",
              "      --fill-color: #1967D2;\n",
              "      --hover-bg-color: #E2EBFA;\n",
              "      --hover-fill-color: #174EA6;\n",
              "      --disabled-fill-color: #AAA;\n",
              "      --disabled-bg-color: #DDD;\n",
              "  }\n",
              "\n",
              "  [theme=dark] .colab-df-quickchart {\n",
              "      --bg-color: #3B4455;\n",
              "      --fill-color: #D2E3FC;\n",
              "      --hover-bg-color: #434B5C;\n",
              "      --hover-fill-color: #FFFFFF;\n",
              "      --disabled-bg-color: #3B4455;\n",
              "      --disabled-fill-color: #666;\n",
              "  }\n",
              "\n",
              "  .colab-df-quickchart {\n",
              "    background-color: var(--bg-color);\n",
              "    border: none;\n",
              "    border-radius: 50%;\n",
              "    cursor: pointer;\n",
              "    display: none;\n",
              "    fill: var(--fill-color);\n",
              "    height: 32px;\n",
              "    padding: 0;\n",
              "    width: 32px;\n",
              "  }\n",
              "\n",
              "  .colab-df-quickchart:hover {\n",
              "    background-color: var(--hover-bg-color);\n",
              "    box-shadow: 0 1px 2px rgba(60, 64, 67, 0.3), 0 1px 3px 1px rgba(60, 64, 67, 0.15);\n",
              "    fill: var(--button-hover-fill-color);\n",
              "  }\n",
              "\n",
              "  .colab-df-quickchart-complete:disabled,\n",
              "  .colab-df-quickchart-complete:disabled:hover {\n",
              "    background-color: var(--disabled-bg-color);\n",
              "    fill: var(--disabled-fill-color);\n",
              "    box-shadow: none;\n",
              "  }\n",
              "\n",
              "  .colab-df-spinner {\n",
              "    border: 2px solid var(--fill-color);\n",
              "    border-color: transparent;\n",
              "    border-bottom-color: var(--fill-color);\n",
              "    animation:\n",
              "      spin 1s steps(1) infinite;\n",
              "  }\n",
              "\n",
              "  @keyframes spin {\n",
              "    0% {\n",
              "      border-color: transparent;\n",
              "      border-bottom-color: var(--fill-color);\n",
              "      border-left-color: var(--fill-color);\n",
              "    }\n",
              "    20% {\n",
              "      border-color: transparent;\n",
              "      border-left-color: var(--fill-color);\n",
              "      border-top-color: var(--fill-color);\n",
              "    }\n",
              "    30% {\n",
              "      border-color: transparent;\n",
              "      border-left-color: var(--fill-color);\n",
              "      border-top-color: var(--fill-color);\n",
              "      border-right-color: var(--fill-color);\n",
              "    }\n",
              "    40% {\n",
              "      border-color: transparent;\n",
              "      border-right-color: var(--fill-color);\n",
              "      border-top-color: var(--fill-color);\n",
              "    }\n",
              "    60% {\n",
              "      border-color: transparent;\n",
              "      border-right-color: var(--fill-color);\n",
              "    }\n",
              "    80% {\n",
              "      border-color: transparent;\n",
              "      border-right-color: var(--fill-color);\n",
              "      border-bottom-color: var(--fill-color);\n",
              "    }\n",
              "    90% {\n",
              "      border-color: transparent;\n",
              "      border-bottom-color: var(--fill-color);\n",
              "    }\n",
              "  }\n",
              "</style>\n",
              "\n",
              "  <script>\n",
              "    async function quickchart(key) {\n",
              "      const quickchartButtonEl =\n",
              "        document.querySelector('#' + key + ' button');\n",
              "      quickchartButtonEl.disabled = true;  // To prevent multiple clicks.\n",
              "      quickchartButtonEl.classList.add('colab-df-spinner');\n",
              "      try {\n",
              "        const charts = await google.colab.kernel.invokeFunction(\n",
              "            'suggestCharts', [key], {});\n",
              "      } catch (error) {\n",
              "        console.error('Error during call to suggestCharts:', error);\n",
              "      }\n",
              "      quickchartButtonEl.classList.remove('colab-df-spinner');\n",
              "      quickchartButtonEl.classList.add('colab-df-quickchart-complete');\n",
              "    }\n",
              "    (() => {\n",
              "      let quickchartButtonEl =\n",
              "        document.querySelector('#df-51a4dbd3-d2ec-4ea0-b736-47b9dddc7f53 button');\n",
              "      quickchartButtonEl.style.display =\n",
              "        google.colab.kernel.accessAllowed ? 'block' : 'none';\n",
              "    })();\n",
              "  </script>\n",
              "</div>\n",
              "    </div>\n",
              "  </div>\n"
            ]
          },
          "metadata": {},
          "execution_count": 11
        }
      ],
      "source": [
        "data.fillna(value=\"Unknown\", inplace=True)\n",
        "data.head()"
      ]
    },
    {
      "cell_type": "code",
      "execution_count": 12,
      "metadata": {
        "colab": {
          "base_uri": "https://localhost:8080/"
        },
        "id": "50Y90BMvmQ5F",
        "outputId": "48174e69-19f4-4e98-a43f-42ef7a61070d"
      },
      "outputs": [
        {
          "output_type": "execute_result",
          "data": {
            "text/plain": [
              "Name         0\n",
              "Sales        0\n",
              "Series       0\n",
              "Release      0\n",
              "Genre        0\n",
              "Developer    0\n",
              "Publisher    0\n",
              "dtype: int64"
            ]
          },
          "metadata": {},
          "execution_count": 12
        }
      ],
      "source": [
        "data.isnull().sum()"
      ]
    },
    {
      "cell_type": "markdown",
      "metadata": {
        "id": "vOs7qg5wz8OH"
      },
      "source": []
    },
    {
      "cell_type": "markdown",
      "metadata": {
        "id": "h-04vMbarsWS"
      },
      "source": [
        "### Cheking Typo"
      ]
    },
    {
      "cell_type": "code",
      "execution_count": 13,
      "metadata": {
        "colab": {
          "base_uri": "https://localhost:8080/"
        },
        "id": "rrFnX0hxpvrS",
        "outputId": "d5de9d97-e090-4211-fa99-796986cfbd64"
      },
      "outputs": [
        {
          "output_type": "stream",
          "name": "stdout",
          "text": [
            "PlayerUnknown's Battlegrounds       1\n",
            "Dungeon Siege                       1\n",
            "Cuphead                             1\n",
            "Danganronpa 2: Goodbye Despair      1\n",
            "Danganronpa: Trigger Happy Havoc    1\n",
            "                                   ..\n",
            "Battlefield 1942                    1\n",
            "Black & White                       1\n",
            "Civilization III                    1\n",
            "Cossacks II: Napoleonic Wars        1\n",
            "Zoo Tycoon                          1\n",
            "Name: Name, Length: 175, dtype: int64 \n",
            "\n",
            "Unknown                  36\n",
            "Command & Conquer         5\n",
            "StarCraft                 4\n",
            "Age of Empires            4\n",
            "Civilization              4\n",
            "                         ..\n",
            "Pac-Man                   1\n",
            "Alice                     1\n",
            "Ark: Survival Evolved     1\n",
            "BioShock                  1\n",
            "Zoo Tycoon                1\n",
            "Name: Series, Length: 92, dtype: int64 \n",
            "\n",
            "Real-time strategy                        24\n",
            "First-person shooter                      19\n",
            "Action role-playing                       12\n",
            "Construction and management simulation     9\n",
            "Role-playing game                          8\n",
            "                                          ..\n",
            "Action role-playing game                   1\n",
            "Maze, arcade                               1\n",
            "Action-adventure, platformer               1\n",
            "Action-adventure, Survival                 1\n",
            "Space combat simulation                    1\n",
            "Name: Genre, Length: 61, dtype: int64 \n",
            "\n",
            "Blizzard Entertainment             8\n",
            "Maxis                              6\n",
            "Paradox Development Studio         5\n",
            "id Software                        4\n",
            "Westwood Studios                   4\n",
            "                                  ..\n",
            "Kojima Productions                 1\n",
            "Edmund McMillen & Florian Himsl    1\n",
            "Landfall Games                     1\n",
            "Keen Software House                1\n",
            "Microsoft                          1\n",
            "Name: Developer, Length: 109, dtype: int64 \n",
            "\n",
            "Electronic Arts           19\n",
            "Blizzard Entertainment     8\n",
            "Paradox Interactive        7\n",
            "Activision                 6\n",
            "GT Interactive             5\n",
            "                          ..\n",
            "Landfall Games             1\n",
            "Headup Games               1\n",
            "Atari, Inc                 1\n",
            "Konami                     1\n",
            "Blue Fang Games            1\n",
            "Name: Publisher, Length: 96, dtype: int64 \n",
            "\n"
          ]
        }
      ],
      "source": [
        "for col_name in ['Name', 'Series', 'Genre', 'Developer',\n",
        "       'Publisher']:\n",
        "       print(data[col_name].value_counts(), '\\n')"
      ]
    },
    {
      "cell_type": "markdown",
      "metadata": {
        "id": "9AOsdRhOoDvb"
      },
      "source": [
        "### Question to be Answered\n",
        "1. Which game is oldest and the newest game in that dataset?"
      ]
    },
    {
      "cell_type": "code",
      "execution_count": 14,
      "metadata": {
        "colab": {
          "base_uri": "https://localhost:8080/"
        },
        "id": "DFvov3EEHZYR",
        "outputId": "0a305a1c-8c7d-4e71-c1e0-8b9621da261f"
      },
      "outputs": [
        {
          "output_type": "stream",
          "name": "stdout",
          "text": [
            "the oldest game \n",
            " Name                                       Hydlide\n",
            "Sales                                          1.0\n",
            "Series                                     Hydlide\n",
            "Release                        1984-01-12 00:00:00\n",
            "Genre                          Action role-playing\n",
            "Developer    Technology and Entertainment Software\n",
            "Publisher    Technology and Entertainment Software\n",
            "Name: 133, dtype: object \n",
            "\n",
            "the newest game \n",
            " Name                         Valheim\n",
            "Sales                            6.0\n",
            "Series                       Unknown\n",
            "Release          2021-01-02 00:00:00\n",
            "Genre                       Survival\n",
            "Developer                  Iron Gate\n",
            "Publisher    Coffee Stain Publishing\n",
            "Name: 20, dtype: object\n"
          ]
        }
      ],
      "source": [
        "data['Release'] = pd.to_datetime(data['Release'])\n",
        "\n",
        "# Sorting DataFrame by Release\n",
        "data_sorted = data.sort_values(by='Release')\n",
        "\n",
        "data_oldest = data_sorted.iloc[0]\n",
        "data_newest = data_sorted.iloc[-1]\n",
        "print(\"the oldest game\", \"\\n\", data_oldest, '\\n')\n",
        "print(\"the newest game\", \"\\n\", data_newest)"
      ]
    },
    {
      "cell_type": "markdown",
      "metadata": {
        "id": "CRlwa2U0ogDN"
      },
      "source": [
        "The oldest game is **Hydlide**\n",
        "\n",
        "![image.png](https://images.launchbox-app.com/644bc819-a1df-4c9d-b34a-40d1b5148ab6.png)\n",
        "\n",
        "The newest games is **Valheim** ![image.png](https://external-content.duckduckgo.com/iu/?u=https%3A%2F%2Fcdn.wccftech.com%2Fwp-content%2Fuploads%2F2021%2F02%2Fvalheim_longhouseHD-scaled.jpg&f=1&nofb=1&ipt=4570e6d071536476f759895edf8ffc12d835d3cd3c64db89ef0745976d0866e4&ipo=images)\n"
      ]
    },
    {
      "cell_type": "markdown",
      "metadata": {
        "id": "6a9WkL4rsR6l"
      },
      "source": [
        "### Question to be Answered\n",
        "\n",
        "2.   Which publisher published most of the games?\n",
        "3.   Which Developer developed most of the games?\n",
        "4.   Which Series has the most sales?\n",
        "5.   Which Series have the most games?\n",
        "\n"
      ]
    },
    {
      "cell_type": "code",
      "execution_count": 36,
      "metadata": {
        "colab": {
          "base_uri": "https://localhost:8080/"
        },
        "id": "CDhiL3ucsc6n",
        "outputId": "09cc4bac-502c-4295-fb18-4b8cd9c28c74"
      },
      "outputs": [
        {
          "output_type": "stream",
          "name": "stdout",
          "text": [
            "Publisher has the most published is Electronic Arts,\n",
            "\n",
            "Developer has the most developed is Blizzard Entertainment, \n",
            "\n",
            "Series has the most game is Command & Conquer, \n",
            "\n",
            "Series have the most sales is Minecraft\n"
          ]
        }
      ],
      "source": [
        "index_columns = ['Publisher', 'Developer', 'Series']\n",
        "for top_values in index_columns:\n",
        "    top_value = data[top_values].value_counts().idxmax()\n",
        "    # Showing the values of columns\n",
        "    if top_values == 'Publisher':\n",
        "        print(f\"Publisher has the most published is {top_value},\\n\")\n",
        "    elif top_values == 'Developer':\n",
        "        print(f\"Developer has the most developed is {top_value}, \\n\")\n",
        "    elif top_values == 'Series':\n",
        "        data_filtered = data[data['Series'] != 'Unknown']\n",
        "        top_value = data_filtered[top_values].value_counts().idxmax()\n",
        "        print(f\"Series has the most game is {top_value}, \\n\")\n",
        "    else:\n",
        "        print(\"\")\n",
        "\n",
        "# Filter out 'Unknown' values in the 'Series' column\n",
        "\n",
        "# Grouping the filtered data by 'Series' and summing up the sales\n",
        "series_sales = data_filtered.groupby('Series')['Sales'].sum()\n",
        "\n",
        "# Finding the series with the highest total sales\n",
        "top_selling_series = series_sales.idxmax()\n",
        "\n",
        "# Displaying the result\n",
        "print(f\"Series have the most sales is {top_selling_series}\")"
      ]
    },
    {
      "cell_type": "code",
      "source": [
        "most_series_sales = data_filtered.value_counts().idxmax()\n",
        "most_series"
      ],
      "metadata": {
        "colab": {
          "base_uri": "https://localhost:8080/"
        },
        "id": "1SJg6oVWY2PO",
        "outputId": "7f386ee0-00af-4469-e959-064cc636060c"
      },
      "execution_count": 28,
      "outputs": [
        {
          "output_type": "execute_result",
          "data": {
            "text/plain": [
              "('7 Days to Die',\n",
              " 2.0,\n",
              " '7 Days',\n",
              " Timestamp('2016-01-06 00:00:00'),\n",
              " 'Survival horror',\n",
              " 'The Fun Pimps',\n",
              " 'The Fun Pimps')"
            ]
          },
          "metadata": {},
          "execution_count": 28
        }
      ]
    },
    {
      "cell_type": "markdown",
      "metadata": {
        "id": "nw8AS9Hlz2hC"
      },
      "source": [
        "### Visualisasi Data"
      ]
    },
    {
      "cell_type": "code",
      "execution_count": 16,
      "metadata": {
        "colab": {
          "base_uri": "https://localhost:8080/",
          "height": 491
        },
        "id": "LQMWztSUspzZ",
        "outputId": "9c529be7-4c02-4afa-efc1-3725d4e561f3"
      },
      "outputs": [
        {
          "output_type": "display_data",
          "data": {
            "text/plain": [
              "<Figure size 1500x500 with 1 Axes>"
            ],
            "image/png": "[encoded data removed]"
          },
          "metadata": {}
        }
      ],
      "source": [
        "plt.figure(figsize=(15, 5))\n",
        "bars = plt.bar(data['Name'][0:5], data['Sales'][0:5], color='skyblue')\n",
        "\n",
        "# Adding label value on the bar\n",
        "for bar in bars:\n",
        "    yval = bar.get_height()\n",
        "    plt.text(bar.get_x() + bar.get_width()/2, yval, round(yval, 2), va='bottom')\n",
        "\n",
        "# Adding label\n",
        "plt.xlabel('Name', fontsize=12)\n",
        "plt.ylabel('Sales', fontsize=12)\n",
        "plt.title('Top 5 Sales of The Game')\n",
        "\n",
        "#Show the plot\n",
        "plt.show()\n"
      ]
    },
    {
      "cell_type": "code",
      "execution_count": 17,
      "metadata": {
        "colab": {
          "base_uri": "https://localhost:8080/"
        },
        "id": "S3s3PRbl2oQT",
        "outputId": "66ff8b43-80ea-4aa0-b598-88dfbab74da4"
      },
      "outputs": [
        {
          "output_type": "stream",
          "name": "stdout",
          "text": [
            "     Release                                    Name  Sales\n",
            "0 1984-01-12                                 Hydlide    1.0\n",
            "1 1985-01-06  Where in the World Is Carmen Sandiego?    4.0\n",
            "2 1985-01-11                    International Karate    1.5\n",
            "3 1988-01-01                                  Tetris    1.0\n",
            "4 1988-01-08                            Last Ninja 2    5.5\n"
          ]
        }
      ],
      "source": [
        "# Groupby by columns ('Release') and then agg with sum\n",
        "agg_daily = data.groupby('Release').agg({\n",
        "    'Name': 'first',\n",
        "    'Sales': 'sum'\n",
        "}).reset_index()\n",
        "\n",
        "print(agg_daily.head(5))"
      ]
    },
    {
      "cell_type": "code",
      "execution_count": 18,
      "metadata": {
        "colab": {
          "base_uri": "https://localhost:8080/",
          "height": 507
        },
        "id": "Wim92i9DFgDf",
        "outputId": "6b73778d-f93c-4853-da57-97a2f48bfb93"
      },
      "outputs": [
        {
          "output_type": "display_data",
          "data": {
            "text/plain": [
              "<Figure size 1200x500 with 1 Axes>"
            ],
            "image/png": "[encoded data removed]"
          },
          "metadata": {}
        }
      ],
      "source": [
        "plt.figure(figsize=(12,5))\n",
        "plt.plot('Release', 'Sales', data=agg_daily, color='skyblue')\n",
        "plt.title('Daily Sales Tren')\n",
        "plt.xlabel('Release')\n",
        "plt.ylabel('Sales')\n",
        "plt.tight_layout()\n",
        "plt.show()"
      ]
    },
    {
      "cell_type": "code",
      "execution_count": 19,
      "metadata": {
        "colab": {
          "base_uri": "https://localhost:8080/",
          "height": 487
        },
        "id": "6U_6aATNLv6m",
        "outputId": "1e7c3db6-561e-41c3-db34-60c1c875096d"
      },
      "outputs": [
        {
          "output_type": "display_data",
          "data": {
            "text/plain": [
              "<Figure size 640x480 with 1 Axes>"
            ],
            "image/png": "[encoded data removed]"
          },
          "metadata": {}
        }
      ],
      "source": [
        "top_value_developer = data['Developer'].value_counts().head(5)\n",
        "top_value_developer.plot(kind='bar', color='skyblue')\n",
        "plt.xlabel('Developer Name')\n",
        "plt.ylabel('Frekuensi Kemunculan')\n",
        "plt.title('Top 5 Developer')\n",
        "for i, j in enumerate(top_value_developer):\n",
        "        plt.text(i, j + 0.1, str(j), ha='center', va='bottom')\n",
        "plt.tight_layout()\n",
        "plt.show()"
      ]
    },
    {
      "cell_type": "code",
      "execution_count": 20,
      "metadata": {
        "colab": {
          "base_uri": "https://localhost:8080/",
          "height": 607
        },
        "id": "R7_Ik62t_zIy",
        "outputId": "7b7862b2-a192-4986-8c02-fbceb128700a"
      },
      "outputs": [
        {
          "output_type": "display_data",
          "data": {
            "text/plain": [
              "<Figure size 1500x600 with 2 Axes>"
            ],
            "image/png": "[encoded data removed]"
          },
          "metadata": {}
        }
      ],
      "source": [
        "plt.figure(figsize=(15, 6))\n",
        "\n",
        "for i, top_values in enumerate(index_columns):\n",
        "    plt.subplot(1, 3, i + 1)\n",
        "    top_values_counts = data[top_values].value_counts().head(5)\n",
        "    top_values_counts.plot(kind='bar', color='skyblue')\n",
        "    plt.title(f'Top 5 {top_values}')\n",
        "    plt.xlabel(top_values)\n",
        "    plt.ylabel('Count')\n",
        "    for j, v in enumerate(top_values_counts):\n",
        "        plt.text(j, v + 0.1, str(v), ha='center', va='bottom')\n",
        "\n",
        "plt.tight_layout()\n",
        "plt.show()\n"
      ]
    },
    {
      "cell_type": "code",
      "execution_count": 21,
      "metadata": {
        "colab": {
          "base_uri": "https://localhost:8080/",
          "height": 607
        },
        "id": "vqT6JkHy-r12",
        "outputId": "1465c62e-fed0-43f9-ddb1-7a5702137618"
      },
      "outputs": [
        {
          "output_type": "display_data",
          "data": {
            "text/plain": [
              "<Figure size 1000x600 with 1 Axes>"
            ],
            "image/png": "[encoded data removed]"
          },
          "metadata": {}
        }
      ],
      "source": [
        "# Grouping the filtered data by 'Series' and summing up the sales\n",
        "series_sales = data_filtered.groupby('Series')['Sales'].sum()\n",
        "\n",
        "# Finding the top 5 series with the highest total sales\n",
        "top_selling_series = series_sales.nlargest(5)\n",
        "\n",
        "plt.figure(figsize=(10, 6))\n",
        "top_selling_series.plot(kind='bar', color='skyblue')\n",
        "plt.title('Top 5 Series by Total Sales')\n",
        "plt.xlabel('Series')\n",
        "plt.ylabel('Total Sales')\n",
        "plt.xticks(rotation=45)\n",
        "\n",
        "for i, v in enumerate(top_selling_series):\n",
        "    plt.text(i, v + 0.1, str(round(v, 2)), ha='center', va='bottom')\n",
        "\n",
        "plt.tight_layout()\n",
        "plt.show()\n"
      ]
    }
  ],
  "metadata": {
    "colab": {
      "provenance": [],
      "authorship_tag": "ABX9TyNrXpvuVzEVF2nfV4WtMO4a",
      "include_colab_link": true
    },
    "kernelspec": {
      "display_name": "Python 3",
      "name": "python3"
    },
    "language_info": {
      "name": "python"
    }
  },
  "nbformat": 4,
  "nbformat_minor": 0
}